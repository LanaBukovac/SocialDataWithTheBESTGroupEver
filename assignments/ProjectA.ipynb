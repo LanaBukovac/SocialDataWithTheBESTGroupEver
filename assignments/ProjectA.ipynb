{
 "cells": [
  {
   "cell_type": "code",
   "execution_count": 7,
   "metadata": {},
   "outputs": [
    {
     "ename": "ModuleNotFoundError",
     "evalue": "No module named 'geopandas'",
     "output_type": "error",
     "traceback": [
      "\u001b[1;31m---------------------------------------------------------------------------\u001b[0m",
      "\u001b[1;31mModuleNotFoundError\u001b[0m                       Traceback (most recent call last)",
      "Input \u001b[1;32mIn [7]\u001b[0m, in \u001b[0;36m<cell line: 7>\u001b[1;34m()\u001b[0m\n\u001b[0;32m      5\u001b[0m \u001b[38;5;28;01mfrom\u001b[39;00m \u001b[38;5;21;01mpathlib\u001b[39;00m \u001b[38;5;28;01mimport\u001b[39;00m Path\n\u001b[0;32m      6\u001b[0m \u001b[38;5;28;01mfrom\u001b[39;00m \u001b[38;5;21;01mdatetime\u001b[39;00m \u001b[38;5;28;01mimport\u001b[39;00m datetime \u001b[38;5;28;01mas\u001b[39;00m dt\n\u001b[1;32m----> 7\u001b[0m \u001b[38;5;28;01mimport\u001b[39;00m \u001b[38;5;21;01mgeopandas\u001b[39;00m \u001b[38;5;28;01mas\u001b[39;00m \u001b[38;5;21;01mgpd\u001b[39;00m\n\u001b[0;32m      8\u001b[0m \u001b[38;5;28;01mimport\u001b[39;00m \u001b[38;5;21;01mjson\u001b[39;00m\n\u001b[0;32m      9\u001b[0m \u001b[38;5;28;01mimport\u001b[39;00m \u001b[38;5;21;01mseaborn\u001b[39;00m \u001b[38;5;28;01mas\u001b[39;00m \u001b[38;5;21;01msns\u001b[39;00m\n",
      "\u001b[1;31mModuleNotFoundError\u001b[0m: No module named 'geopandas'"
     ]
    }
   ],
   "source": [
    "# import packages\n",
    "import pandas as pd\n",
    "import numpy as np\n",
    "import matplotlib.pyplot as plt\n",
    "from pathlib import Path\n",
    "from datetime import datetime as dt\n",
    "import geopandas as gpd\n",
    "import json\n",
    "import seaborn as sns\n",
    "from shapely.geometry import Point, Polygon\n",
    "from pyproj import CRS\n",
    "import plotly.graph_objects as go\n",
    "\n",
    "\n",
    "pd.set_option('display.max_rows', 500)\n",
    "pd.set_option('display.max_columns', 500)\n",
    "pd.set_option('display.width', 1000)"
   ]
  },
  {
   "cell_type": "code",
   "execution_count": null,
   "metadata": {},
   "outputs": [],
   "source": [
    "# import data\n",
    "\n",
    "# bike rentals (https://data.london.gov.uk/dataset/number-bicycle-hires)\n",
    "# metadata = pd.read_excel(Path.cwd().parent/\"files\"/\"tfl-daily-cycle-hires.xlsx\")\n",
    "bike_rentals = pd.read_excel(Path.cwd().parent/\"Assignment3\"/\"files\"/\"bike_rentals_london.xlsx\", sheet_name = 'Data')\n",
    "\n",
    "# covid (https://data.london.gov.uk/dataset/coronavirus--covid-19--cases)\n",
    "covid = pd.read_csv(Path.cwd().parent/\"Assignment3\"/\"files\"/\"corona_london.csv\")\n",
    "\n",
    "# weather (https://data.ceda.ac.uk/badc/ukmo-midas-open/data/uk-hourly-weather-obs/dataset-version-202107/greater-london/00697_london-st-jamess-park/qc-version-1)\n",
    "# metadata od the weather data (https://artefacts.ceda.ac.uk/badc_datadocs/ukmo-midas/WH_Table.html)\n",
    "li = []\n",
    "\n",
    "for i in range(2010,2020,1):\n",
    "\n",
    "    dummy = pd.read_csv(Path.cwd().parent/\"Assignment3\"/\"files\"/f\"London_weather_{i}_heathrow.csv\", header = 280)\n",
    "    li.append(dummy)\n",
    "\n",
    "weather = pd.concat(li, axis=0, ignore_index=True)\n",
    "\n",
    "del li, dummy, i\n"
   ]
  },
  {
   "cell_type": "code",
   "execution_count": null,
   "metadata": {},
   "outputs": [],
   "source": [
    "# Preprocessing bike rental data\n",
    "\n",
    "bike_rentals_month = bike_rentals[['Month', 'Number of Bicycle Hires.1', 'Average Hire Time (mins)']]\n",
    "# drop NaN rows\n",
    "bike_rentals_month = bike_rentals_month[bike_rentals_month['Number of Bicycle Hires.1'].notna()]\n",
    "\n",
    "bike_rentals_year = bike_rentals[['Year', 'Number of Bicycle Hires.2']]\n",
    "bike_rentals_year = bike_rentals_year.iloc[:bike_rentals_year.Year.isnull().values.argmax()]\n",
    "\n",
    "bike_rentals = bike_rentals.drop(columns = ['Unnamed: 2', 'Unnamed: 5', 'Unnamed: 8', 'Month.1', 'Month', 'Number of Bicycle Hires.1', \\\n",
    "    'Average Hire Time (mins)', 'Year', 'Number of Bicycle Hires.2'])\n",
    "\n",
    "bike_rentals.head()"
   ]
  },
  {
   "cell_type": "code",
   "execution_count": null,
   "metadata": {},
   "outputs": [],
   "source": [
    "# Preprocessing weather data\n",
    "\n",
    "# drop columns with only zeros\n",
    "weather = weather.dropna(axis=1, how='all')\n",
    "# drop rows with only zeros\n",
    "weather = weather.dropna(axis=0, how='all')\n",
    "# drop columns version_num as all values = 1.0, id as all values = 3770 or NaN, met_domain_name as all values = SYNOP,\n",
    "# id_type = WMO, 'src_id' = 697\n",
    "weather = weather.drop(columns = ['version_num', 'id', 'met_domain_name', 'id_type', 'src_id'])\n",
    "# drop columns wind_direction, wind_speed, wind_direction_q, wind_speed_q only two values in these columns\n",
    "weather = weather.drop(columns = ['wind_direction', 'wind_speed', 'wind_direction_q', 'wind_speed_q'])\n",
    "# drop column wind_speed_unit_id as all the wind columns consist of mostly NaNs\n",
    "weather = weather.drop(columns = ['wind_speed_unit_id'])\n",
    "# drop columns as the method and manner of measurement are not relevant for this analysis\n",
    "weather = weather.drop(columns = ['rec_st_ind', 'src_opr_type', 'air_temperature_q', 'dewpoint_q', 'wetb_temp_q', 'dewpoint_j', \\\n",
    "    'wetb_temp_j', 'rltv_hum_j', 'midas_stmp_etime', 'meto_stmp_time'])\n",
    "# drop columns where air_temperature = NaN\n",
    "weather = weather[weather['air_temperature'].notna()]\n",
    "# converting date to datetime\n",
    "weather['ob_time'] = pd.to_datetime(weather['ob_time'])\n",
    "# group by day to be able to merge it with the bike rental data\n",
    "weather = weather.groupby(weather['ob_time'].dt.date).mean().reset_index()\n",
    "weather['ob_time'] = pd.to_datetime(weather['ob_time'])\n",
    "\n",
    "## optional\n",
    "# drop columns where dewpoint, wetb_temp, rltv_hum = NaN -> needed if used for analysis, but if not rather more temperature measurements\n",
    "weather = weather[weather['dewpoint'].notna()]\n",
    "\n",
    "## checks\n",
    "# NaN check \n",
    "weather.isna().sum()"
   ]
  },
  {
   "cell_type": "code",
   "execution_count": null,
   "metadata": {},
   "outputs": [],
   "source": [
    "# Preprocessing covid data\n",
    "\n",
    "# drop all dates without age information\n",
    "covid = covid[covid.age_band != 'unassigned']\n",
    "# drop columns area_name, area_code\n",
    "covid = covid.drop(columns = ['area_name', 'area_code'])\n",
    "# converting date to datetime\n",
    "covid['date'] = pd.to_datetime(covid['date'])"
   ]
  },
  {
   "cell_type": "code",
   "execution_count": null,
   "metadata": {},
   "outputs": [],
   "source": [
    "# Preprocessing combing bike rentals and weather data by joining on the datetime\n",
    "\n",
    "bike_rentals_weather = pd.merge(bike_rentals, weather, left_on='Day', right_on='ob_time')"
   ]
  },
  {
   "cell_type": "code",
   "execution_count": null,
   "metadata": {},
   "outputs": [],
   "source": [
    "# Preprocessing combing bike rentals and covid data by joining on the datetime\n",
    "\n",
    "bike_rentals_covid = pd.merge(bike_rentals, covid, left_on='Day', right_on='date')"
   ]
  },
  {
   "cell_type": "code",
   "execution_count": null,
   "metadata": {},
   "outputs": [],
   "source": [
    "bike_rentals_weather"
   ]
  },
  {
   "cell_type": "code",
   "execution_count": null,
   "metadata": {},
   "outputs": [],
   "source": [
    "bins= [0.0,15.0,30.0,60.0,91.0]\n",
    "labels = ['Child','Young Adult','Middle-Age Adult','Senior-Citizen']\n",
    "bike_rentals_covid['AgeGroup'] = pd.cut(bike_rentals_covid['age_lower'], bins=bins, labels=labels, right=False)"
   ]
  },
  {
   "cell_type": "code",
   "execution_count": null,
   "metadata": {},
   "outputs": [],
   "source": [
    "bike_rentals_covid = bike_rentals_covid.drop([\"age_band\"], axis=1)"
   ]
  },
  {
   "cell_type": "code",
   "execution_count": null,
   "metadata": {},
   "outputs": [],
   "source": [
    "bike_rentals_covid = bike_rentals_covid.drop([\"Unnamed: 11\", \"Unnamed: 12\", \"Unnamed: 13\", \"Unnamed: 14\", \"Unnamed: 15\", \"Unnamed: 16\", \"Unnamed: 17\"], axis=1)"
   ]
  },
  {
   "cell_type": "code",
   "execution_count": null,
   "metadata": {},
   "outputs": [],
   "source": [
    "bike_rentals_covid"
   ]
  },
  {
   "cell_type": "code",
   "execution_count": null,
   "metadata": {},
   "outputs": [],
   "source": [
    "bike_rentals_covid.boxplot('cases','AgeGroup')"
   ]
  },
  {
   "cell_type": "code",
   "execution_count": null,
   "metadata": {},
   "outputs": [],
   "source": [
    "bike_rentals_covid['year']=bike_rentals_covid.Day.dt.year\n",
    "bike_rentals_covid['pickup_date']=bike_rentals_covid.Day.dt.date\n",
    "bike_rentals_covid['pickup_day']=bike_rentals_covid.Day.dt.day\n",
    "bike_rentals_covid['pickup_month']=bike_rentals_covid.Day.dt.month\n",
    "\n",
    "# Extracting the day of the week (dow)\n",
    "bike_rentals_covid['pickup_dow'] = pd.to_datetime(bike_rentals_covid['Day']).dt.dayofweek\n",
    "\n",
    "# Type of day column\n",
    "\n",
    "bike_rentals_covid['pickup_weekend'] = bike_rentals_covid.Day.dt.dayofweek.apply(lambda x: '0' if x <5 else '1')"
   ]
  },
  {
   "cell_type": "code",
   "execution_count": null,
   "metadata": {},
   "outputs": [],
   "source": [
    "# Adding the season\n",
    "bike_rentals_covid['season']=bike_rentals_covid.Day.dt.month.apply(lambda x: 'Winter' if x <=2 else 'Spring' if x<=5 else 'Summer' \n",
    "                                             if x<=8 else 'Autumn' if x<=11 else 'Winter')"
   ]
  },
  {
   "cell_type": "code",
   "execution_count": null,
   "metadata": {},
   "outputs": [],
   "source": [
    "bike_rentals_covid = bike_rentals_covid.drop([\"Day\",\"date\"], axis=1)"
   ]
  },
  {
   "cell_type": "code",
   "execution_count": null,
   "metadata": {},
   "outputs": [],
   "source": [
    "figure = plt.figure(figsize =(15, 6))\n",
    "bikes_month=[]\n",
    "for i in range(1,13):\n",
    "    bikes_month.append(bike_rentals_covid[bike_rentals_covid['pickup_month']==i]['Number of Bicycle Hires'])\n",
    "# Creating plot\n",
    "plt.boxplot(bikes_month, showmeans=True, meanline= True)\n",
    "plt.plot([], [], '--', linewidth=1, color='Green', label='mean')\n",
    "plt.plot([], [], '-', linewidth=1, color='orange', label='median')\n",
    "plt.xlabel(\"Months\", fontsize=12)\n",
    "plt.ylabel(\"Hires per month\", fontsize=12)\n",
    "plt.xticks(fontsize=12)\n",
    "plt.yticks(fontsize=12)\n",
    "plt.legend(fontsize=12)\n",
    "plt.title(\"Boxplot for the distribution of hires per month during corona time\")\n",
    "plt.show()"
   ]
  },
  {
   "cell_type": "code",
   "execution_count": null,
   "metadata": {},
   "outputs": [],
   "source": [
    "covid_hires_per_season=bike_rentals_covid.groupby(['pickup_dow','season']).mean()['Number of Bicycle Hires'].reset_index()"
   ]
  },
  {
   "cell_type": "code",
   "execution_count": null,
   "metadata": {},
   "outputs": [],
   "source": [
    "covid_hires_per_season"
   ]
  },
  {
   "cell_type": "code",
   "execution_count": null,
   "metadata": {},
   "outputs": [],
   "source": [
    "covid_hires_per_dow=bike_rentals_covid.groupby(['pickup_dow','pickup_weekend']).mean()['Number of Bicycle Hires'].reset_index()\n",
    "covid_hires_per_dow"
   ]
  },
  {
   "cell_type": "code",
   "execution_count": null,
   "metadata": {},
   "outputs": [],
   "source": [
    "#Plotting pickups based on the type of the day and the season\n",
    " \n",
    "fig,axes = plt.subplots(nrows=1, ncols=2,figsize=(15,6))\n",
    "#ax = plt.gca()\n",
    "for weekday in covid_hires_per_dow['pickup_weekend'].unique():\n",
    "    covid_hires_per_dow[covid_hires_per_dow.pickup_weekend==weekday].plot(kind='line',x='pickup_dow',y='Number of Bicycle Hires',ax=axes[0],xlabel='Days of the week',ylabel='Hires')\n",
    "axes[0].legend(['Weekday','Weekend'])\n",
    "axes[0].set_title('Hires per type of the day')\n",
    "\n",
    "\n",
    "\n",
    "for season in covid_hires_per_season['season'].unique():\n",
    "    covid_hires_per_season[covid_hires_per_season.season==season].plot(kind='line',x='pickup_dow',y='Number of Bicycle Hires',ax=axes[1],xlabel='Days of the week',ylabel='Hires')\n",
    "axes[1].legend(covid_hires_per_season['season'].unique(),loc='center left', bbox_to_anchor=(1, 0.5))\n",
    "axes[1].set_title('Hires per season')"
   ]
  },
  {
   "cell_type": "code",
   "execution_count": null,
   "metadata": {},
   "outputs": [],
   "source": [
    "covid_cases_per_agegroup=bike_rentals_covid.groupby(['pickup_dow','AgeGroup']).mean()['cases'].reset_index()\n",
    "covid_cases_per_agegroup"
   ]
  },
  {
   "cell_type": "code",
   "execution_count": null,
   "metadata": {},
   "outputs": [],
   "source": [
    "ax = plt.gca()\n",
    "for agegroup in covid_cases_per_agegroup['AgeGroup'].unique():\n",
    "    covid_cases_per_agegroup[covid_cases_per_agegroup.AgeGroup==agegroup].plot(kind='line',x='pickup_dow',y='cases',ax=ax,xlabel='Age group',ylabel='Covid-19 cases',figsize=(6.5,6))\n",
    "plt.legend(covid_cases_per_agegroup['AgeGroup'].unique(),loc='center left', bbox_to_anchor=(1, 0.5))\n",
    "plt.title('Covid-19 cases per day of the week per age group')"
   ]
  },
  {
   "cell_type": "code",
   "execution_count": null,
   "metadata": {},
   "outputs": [],
   "source": [
    "corrMatrix = bike_rentals_covid.corr()\n",
    "plt.figure(figsize=(20, 20))\n",
    "sns.heatmap(corrMatrix, annot=True)\n",
    "plt.show()"
   ]
  },
  {
   "cell_type": "code",
   "execution_count": null,
   "metadata": {},
   "outputs": [],
   "source": [
    "cycling_load = json.load(open(Path.cwd().parent/\"Assignment3\"/\"files\"/\"cycling-load.json\"))\n",
    "\n",
    "# insert loop here to download and concate data\n",
    "tfl = pd.read_csv(cycling_load['entries'][1]['url'])"
   ]
  },
  {
   "cell_type": "code",
   "execution_count": null,
   "metadata": {},
   "outputs": [],
   "source": [
    "tfl = pd.DataFrame(tfl)\n",
    "tfl"
   ]
  },
  {
   "cell_type": "code",
   "execution_count": null,
   "metadata": {},
   "outputs": [],
   "source": [
    "bikepoint = json.load(open(Path.cwd().parent/\"Assignment3\"/\"files\"/\"bikepoint.json\"))"
   ]
  },
  {
   "cell_type": "code",
   "execution_count": null,
   "metadata": {},
   "outputs": [],
   "source": [
    "bikepoint = pd.DataFrame(bikepoint)\n",
    "bikepoint = bikepoint.drop(['$type', 'url', 'placeType', 'additionalProperties', 'children', 'childrenUrls'], axis='columns')\n",
    "bikepoint"
   ]
  },
  {
   "cell_type": "code",
   "execution_count": null,
   "metadata": {},
   "outputs": [],
   "source": [
    "list_id = list(range(1,len(bikepoint)+1))\n",
    "bikepoint['id'] = list_id\n",
    "bikepoint"
   ]
  },
  {
   "cell_type": "code",
   "execution_count": null,
   "metadata": {},
   "outputs": [],
   "source": [
    "data = pd.merge(tfl, bikepoint, left_on=\"StartStation Id\", right_on=\"id\")\n",
    "data = data.rename(columns={'id': 'id_start', 'lon' : 'lon_start', 'lat' : 'lat_start'})\n",
    "data = pd.merge(data, bikepoint, left_on=\"EndStation Id\", right_on=\"id\")\n",
    "data = data.rename(columns={'id': 'id_end', 'lon' : 'lon_end', 'lat' : 'lat_end'})\n",
    "#data = data.dropna()\n",
    "data.isnull().sum()"
   ]
  },
  {
   "cell_type": "code",
   "execution_count": null,
   "metadata": {},
   "outputs": [],
   "source": [
    "data.head()"
   ]
  },
  {
   "cell_type": "code",
   "execution_count": null,
   "metadata": {
    "scrolled": true
   },
   "outputs": [],
   "source": [
    "# Import street map\n",
    "street_map = gpd.read_file(Path.cwd().parent/\"Assignment3\"/\"London-wards-2014_ESRI\"/'London_Ward_CityMerged.shp')\n",
    "\n",
    "# Creating new dataframe for storing relevant data for geo-visualization\n",
    "data_location=pd.DataFrame()"
   ]
  },
  {
   "cell_type": "code",
   "execution_count": null,
   "metadata": {},
   "outputs": [],
   "source": [
    "#creating new column which contains combined latitude and longitude\n",
    "data[\"location\"]=list(zip(data[\"lat_start\"], data[\"lon_start\"]))\n",
    "\n",
    "data_location[\"location\"]=data[\"location\"]\n",
    "# Storing only unique location\n",
    "data_location=data_location.apply(lambda col: col.drop_duplicates().reset_index(drop=True))\n",
    "data_location=data_location.dropna()\n",
    "# Caluclating how much each location is \"visited\" to get consumption\n",
    "data_location[\"consumption\"]=list(data[\"location\"].value_counts())"
   ]
  },
  {
   "cell_type": "code",
   "execution_count": null,
   "metadata": {},
   "outputs": [],
   "source": [
    "# Making empty lists to store longitude and latitude to be used for geopandas library instance .points_from_xy\n",
    "longitude=[]\n",
    "latitude=[]\n",
    "for x, y in data_location[\"location\"]:\n",
    "    longitude.append(x)\n",
    "    latitude.append(y)\n",
    "\n",
    "# Designate coordinate system\n",
    "crs = CRS(init=\"epsg:4544\")\n",
    "geometry=gpd.points_from_xy(latitude,longitude)\n",
    "# Create GeoPandas dataframe\n",
    "geometry=geometry\n",
    "geo_data = gpd.GeoDataFrame(data_location,\n",
    " crs = crs,\n",
    " geometry = geometry)"
   ]
  },
  {
   "cell_type": "code",
   "execution_count": null,
   "metadata": {},
   "outputs": [],
   "source": [
    "# Create figure and axes, assign to subplot\n",
    "fig, ax = plt.subplots(figsize=(15,15))\n",
    "# Add .shp mapfile to axes\n",
    "street_map.plot(ax=ax, alpha=0.4,color='grey')\n",
    "# Add geodataframe to axes\n",
    "geo_data.plot(column='consumption',ax=ax,alpha=0.5, legend=True,markersize=10)\n",
    "plt.title(\"Consumption of bike stations\", fontsize=15,fontweight='bold')\n",
    "# Set latitiude and longitude boundaries for map display\n",
    "plt.xlim(-74.02,-73.9)\n",
    "plt.ylim(40.64,40.84)\n",
    "plt.show()"
   ]
  }
 ],
 "metadata": {
  "interpreter": {
   "hash": "e902ec6b761f131b36312efab9098b8bef82690ba6d6a2390ce6df74441d3b34"
  },
  "kernelspec": {
   "display_name": "Python 3 (ipykernel)",
   "language": "python",
   "name": "python3"
  },
  "language_info": {
   "codemirror_mode": {
    "name": "ipython",
    "version": 3
   },
   "file_extension": ".py",
   "mimetype": "text/x-python",
   "name": "python",
   "nbconvert_exporter": "python",
   "pygments_lexer": "ipython3",
   "version": "3.8.8"
  }
 },
 "nbformat": 4,
 "nbformat_minor": 2
}
